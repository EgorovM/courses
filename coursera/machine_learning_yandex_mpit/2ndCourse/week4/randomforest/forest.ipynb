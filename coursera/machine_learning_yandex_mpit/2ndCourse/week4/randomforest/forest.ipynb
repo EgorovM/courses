{
 "cells": [
  {
   "cell_type": "markdown",
   "metadata": {},
   "source": [
    "Imports"
   ]
  },
  {
   "cell_type": "code",
   "execution_count": 174,
   "metadata": {},
   "outputs": [],
   "source": [
    "import matplotlib.pyplot as plt\n",
    "\n",
    "import pandas as pd\n",
    "import numpy as np\n",
    "\n",
    "import sklearn\n",
    "from sklearn import datasets\n",
    "\n",
    "from sklearn.tree import DecisionTreeClassifier\n",
    "from sklearn.ensemble import BaggingClassifier, RandomForestClassifier\n",
    "from sklearn import ensemble, tree\n",
    "\n",
    "from sklearn.model_selection import cross_val_score, GridSearchCV"
   ]
  },
  {
   "cell_type": "markdown",
   "metadata": {},
   "source": [
    "Helper Function"
   ]
  },
  {
   "cell_type": "code",
   "execution_count": 97,
   "metadata": {},
   "outputs": [],
   "source": [
    "def write_answer(answer, num):\n",
    "    with open(f\"answer{num}.txt\", \"w\") as file:\n",
    "        file.write(str(answer))\n",
    "        \n",
    "def fit_and_get_cross_val_score(estimator, X, target):\n",
    "    estimator.fit(X, target)\n",
    "    mean_score = cross_val_score(estimator, X, target,cv=CV, n_jobs=2).mean()\n",
    "    \n",
    "    return mean_score"
   ]
  },
  {
   "cell_type": "markdown",
   "metadata": {},
   "source": [
    "Prepare Data"
   ]
  },
  {
   "cell_type": "code",
   "execution_count": 87,
   "metadata": {},
   "outputs": [],
   "source": [
    "data = datasets.load_digits()\n",
    "X, target = data['data'], data['target']"
   ]
  },
  {
   "cell_type": "markdown",
   "metadata": {},
   "source": [
    "Globals"
   ]
  },
  {
   "cell_type": "code",
   "execution_count": 130,
   "metadata": {},
   "outputs": [],
   "source": [
    "CV = 10\n",
    "\n",
    "SAMPLES_COUNT, FEATURES_COUNT = X.shape[0], X.shape[1]"
   ]
  },
  {
   "cell_type": "markdown",
   "metadata": {},
   "source": [
    "DecisionTreeClassifier"
   ]
  },
  {
   "cell_type": "code",
   "execution_count": 131,
   "metadata": {},
   "outputs": [
    {
     "name": "stdout",
     "output_type": "stream",
     "text": [
      "Score of DecisionTreeClassifier: 0.8185754189944134\n"
     ]
    }
   ],
   "source": [
    "decision_tree = DecisionTreeClassifier()\n",
    "\n",
    "mean_score = fit_and_get_cross_val_score(decision_tree, X, target)\n",
    "\n",
    "print('Score of DecisionTreeClassifier:', mean_score)"
   ]
  },
  {
   "cell_type": "code",
   "execution_count": 132,
   "metadata": {},
   "outputs": [],
   "source": [
    "write_answer(mean_score, 1)"
   ]
  },
  {
   "cell_type": "markdown",
   "metadata": {},
   "source": [
    "BaggingClassifier"
   ]
  },
  {
   "cell_type": "code",
   "execution_count": 133,
   "metadata": {},
   "outputs": [
    {
     "name": "stdout",
     "output_type": "stream",
     "text": [
      "Score of BaggingClassifier: 0.927048417132216\n"
     ]
    }
   ],
   "source": [
    "estimator = ensemble.BaggingClassifier(\n",
    "    DecisionTreeClassifier(), \n",
    "    n_estimators=100,\n",
    "    random_state=0\n",
    ")\n",
    "\n",
    "mean_score = fit_and_get_cross_val_score(estimator, X, target)\n",
    "\n",
    "print('Score of BaggingClassifier:', mean_score)"
   ]
  },
  {
   "cell_type": "code",
   "execution_count": 134,
   "metadata": {},
   "outputs": [],
   "source": [
    "write_answer(mean_score, 2)"
   ]
  },
  {
   "cell_type": "markdown",
   "metadata": {},
   "source": [
    "BaggingClassifier with parameter _q_"
   ]
  },
  {
   "cell_type": "code",
   "execution_count": 163,
   "metadata": {},
   "outputs": [
    {
     "name": "stdout",
     "output_type": "stream",
     "text": [
      "Score of BaggingClassifier with parameter q: 0.9293389199255122\n"
     ]
    }
   ],
   "source": [
    "bclf = ensemble.BaggingClassifier(\n",
    "    DecisionTreeClassifier(),\n",
    "    n_estimators=100,\n",
    "    max_features=MAX_CLASSIFIER_FEATURES_COUNT,\n",
    "    random_state=0\n",
    ")\n",
    "\n",
    "mean_score = fit_and_get_cross_val_score(bclf, X, target)\n",
    "\n",
    "print('Score of BaggingClassifier with parameter q:', mean_score)"
   ]
  },
  {
   "cell_type": "code",
   "execution_count": 164,
   "metadata": {},
   "outputs": [],
   "source": [
    "write_answer(mean_score, 3)"
   ]
  },
  {
   "cell_type": "markdown",
   "metadata": {},
   "source": [
    "BaggingClassifier with parameter _q_ and random features"
   ]
  },
  {
   "cell_type": "code",
   "execution_count": 149,
   "metadata": {},
   "outputs": [
    {
     "name": "stdout",
     "output_type": "stream",
     "text": [
      "Score of BaggingClassifier with random features: 0.9593916821849783\n"
     ]
    }
   ],
   "source": [
    "estimator = ensemble.BaggingClassifier(\n",
    "    DecisionTreeClassifier(\n",
    "        max_features=\"sqrt\",\n",
    "        splitter=\"random\",\n",
    "    ), \n",
    "    n_estimators=100, \n",
    "    bootstrap=False,\n",
    "    random_state=0\n",
    ")\n",
    "\n",
    "mean_score = fit_and_get_cross_val_score(estimator, X, target)\n",
    "\n",
    "print('Score of BaggingClassifier with random features:', mean_score)"
   ]
  },
  {
   "cell_type": "code",
   "execution_count": 150,
   "metadata": {},
   "outputs": [],
   "source": [
    "write_answer(mean_score, 4)"
   ]
  },
  {
   "cell_type": "markdown",
   "metadata": {},
   "source": [
    "Random Forest"
   ]
  },
  {
   "cell_type": "markdown",
   "metadata": {},
   "source": [
    "1) Случайный лес сильно переобучается с ростом количества деревьев - \n",
    "\n",
    "2) При очень маленьком числе деревьев (5, 10, 15), случайный лес работает хуже, чем при большем числе деревьев +\n",
    "\n",
    "3) С ростом количества деревьев в случайном лесе, в какой-то момент деревьев становится достаточно для высокого качества классификации, а затем качество существенно не меняется. +\n",
    "\n",
    "4) При большом количестве признаков (для данного датасета - 40, 50) качество классификации становится хуже, чем при малом количестве признаков (5, 10). Это связано с тем, что чем меньше признаков выбирается в каждом узле, тем более различными получаются деревья (ведь деревья сильно неустойчивы к изменениям в обучающей выборке), и тем лучше работает их композиция. +\n",
    "\n",
    "5) При большом количестве признаков (40, 50, 60) качество классификации лучше, чем при малом количестве признаков (5, 10). Это связано с тем, что чем больше признаков - тем больше информации об объектах, а значит алгоритм может делать прогнозы более точно. -\n",
    "\n",
    "6) При небольшой максимальной глубине деревьев (5-6) качество работы случайного леса намного лучше, чем без ограничения глубины, т.к. деревья получаются не переобученными. С ростом глубины деревьев качество ухудшается. -\n",
    "\n",
    "7) При небольшой максимальной глубине деревьев (5-6) качество работы случайного леса заметно хуже, чем без ограничений, т.к. деревья получаются недообученными. С ростом глубины качество сначала улучшается, а затем не меняется существенно, т.к. из-за усреднения прогнозов и различий деревьев их переобученность в бэггинге не сказывается на итоговом качестве (все деревья преобучены по-разному, и при усреднении они компенсируют переобученность друг-друга). +"
   ]
  },
  {
   "cell_type": "code",
   "execution_count": 251,
   "metadata": {},
   "outputs": [],
   "source": [
    "write_answer('2 3 4 7', 5)"
   ]
  },
  {
   "cell_type": "code",
   "execution_count": 160,
   "metadata": {},
   "outputs": [
    {
     "data": {
      "text/plain": [
       "GridSearchCV(cv=10, estimator=RandomForestClassifier(), n_jobs=3,\n",
       "             param_grid={'max_depth': [5, 6, None],\n",
       "                         'max_features': [5, 10, 40, 50, 60],\n",
       "                         'n_estimators': [5, 10, 15, 100, 200, 300]})"
      ]
     },
     "execution_count": 160,
     "metadata": {},
     "output_type": "execute_result"
    }
   ],
   "source": [
    "grid_param = {\n",
    "    \"n_estimators\": [5, 10, 15, 100, 200, 300],\n",
    "    \"max_features\": [5, 10, 40, 50, 60],\n",
    "    \"max_depth\": [5, 6, None]\n",
    "}\n",
    "\n",
    "estimator = GridSearchCV(RandomForestClassifier(), grid_param, cv=CV, n_jobs=3)\n",
    "estimator.fit(X, target)"
   ]
  },
  {
   "cell_type": "code",
   "execution_count": 198,
   "metadata": {},
   "outputs": [],
   "source": [
    "params = pd.DataFrame(estimator.cv_results_['params'])\n",
    "scores = estimator.cv_results_['mean_test_score']"
   ]
  },
  {
   "cell_type": "code",
   "execution_count": 355,
   "metadata": {},
   "outputs": [
    {
     "data": {
      "text/plain": [
       "Text(0, 0.5, 'accuracity')"
      ]
     },
     "execution_count": 355,
     "metadata": {},
     "output_type": "execute_result"
    },
    {
     "data": {
      "image/png": "[encoded data removed]",
      "text/plain": [
       "<Figure size 432x432 with 1 Axes>"
      ]
     },
     "metadata": {
      "needs_background": "light"
     },
     "output_type": "display_data"
    }
   ],
   "source": [
    "plt.figure(figsize=(6, 6))\n",
    "\n",
    "for n_estimators in grid_param[\"n_estimators\"]:\n",
    "    for ind in params[(params['n_estimators']==n_estimators)].index:\n",
    "        plt.scatter(n_estimators, scores[ind], color='green')\n",
    "    \n",
    "plt.xlabel(\"n_estimators\")\n",
    "plt.ylabel(\"accuracity\")"
   ]
  },
  {
   "cell_type": "code",
   "execution_count": 245,
   "metadata": {},
   "outputs": [
    {
     "data": {
      "image/png": "[encoded data removed]",
      "text/plain": [
       "<Figure size 432x432 with 1 Axes>"
      ]
     },
     "metadata": {
      "needs_background": "light"
     },
     "output_type": "display_data"
    }
   ],
   "source": [
    "params[params['max_depth']==6]\n",
    "plt.figure(figsize=(6, 6))\n",
    "\n",
    "for ind in params[(params['max_features']==5) | (params['max_features']==10)].index:\n",
    "    plt.scatter('5-10', scores[ind], color='green')\n",
    "    \n",
    "for ind in params[(params['max_features']==40) | (params['max_features']==50)].index:\n",
    "    plt.scatter('40-50', scores[ind], color='red')\n",
    "    \n",
    "plt.xlabel('max_features')\n",
    "plt.ylabel('accuracity')\n",
    "\n",
    "plt.show()"
   ]
  },
  {
   "cell_type": "code",
   "execution_count": 250,
   "metadata": {},
   "outputs": [
    {
     "data": {
      "image/png": "[encoded data removed]",
      "text/plain": [
       "<Figure size 432x432 with 1 Axes>"
      ]
     },
     "metadata": {
      "needs_background": "light"
     },
     "output_type": "display_data"
    }
   ],
   "source": [
    "params[params['max_depth']==6]\n",
    "plt.figure(figsize=(6, 6))\n",
    "\n",
    "for ind in params[(params['max_depth']==5) | (params['max_depth']==6)].index:\n",
    "    plt.scatter('5-6', scores[ind], color='red')\n",
    "    \n",
    "for ind in params[np.isnan(params['max_depth'])].index:\n",
    "    plt.scatter('None', scores[ind], color='green')\n",
    "    \n",
    "plt.xlabel('max_depth')\n",
    "plt.ylabel('accuracity')\n",
    "\n",
    "plt.show()"
   ]
  }
 ],
 "metadata": {
  "kernelspec": {
   "display_name": "cs102",
   "language": "python",
   "name": "cs102"
  },
  "language_info": {
   "codemirror_mode": {
    "name": "ipython",
    "version": 3
   },
   "file_extension": ".py",
   "mimetype": "text/x-python",
   "name": "python",
   "nbconvert_exporter": "python",
   "pygments_lexer": "ipython3",
   "version": "3.8.3"
  }
 },
 "nbformat": 4,
 "nbformat_minor": 4
}

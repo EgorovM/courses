{
 "cells": [
  {
   "cell_type": "code",
   "execution_count": 72,
   "metadata": {},
   "outputs": [],
   "source": [
    "from sklearn import datasets\n",
    "\n",
    "import pandas as pd\n",
    "import numpy as np"
   ]
  },
  {
   "cell_type": "code",
   "execution_count": 73,
   "metadata": {},
   "outputs": [],
   "source": [
    "from sklearn.naive_bayes import BernoulliNB, MultinomialNB, GaussianNB\n",
    "\n",
    "from sklearn.preprocessing import normalize"
   ]
  },
  {
   "cell_type": "code",
   "execution_count": 74,
   "metadata": {},
   "outputs": [],
   "source": [
    "digits_data = datasets.load_digits()\n",
    "\n",
    "X_digits = digits_data['data']\n",
    "y_digits = digits_data['target']\n",
    "\n",
    "digits_df = pd.DataFrame(X_digits, columns=digits_data['feature_names'])\n",
    "digits_df['digit'] = y_digits"
   ]
  },
  {
   "cell_type": "code",
   "execution_count": 75,
   "metadata": {},
   "outputs": [],
   "source": [
    "breast_data = datasets.load_breast_cancer()\n",
    "\n",
    "X_breast = breast_data['data']\n",
    "y_breast = breast_data['target']\n",
    "\n",
    "breast_df = pd.DataFrame(X_breast, columns=breast_data['feature_names'])\n",
    "breast_df['breast_cancer'] = y_breast"
   ]
  },
  {
   "cell_type": "code",
   "execution_count": 76,
   "metadata": {},
   "outputs": [],
   "source": [
    "from sklearn.model_selection import cross_val_score"
   ]
  },
  {
   "cell_type": "code",
   "execution_count": 77,
   "metadata": {},
   "outputs": [
    {
     "name": "stdout",
     "output_type": "stream",
     "text": [
      "Bernoulii digits: 0.8241736304549674\n",
      "Bernoulii breast: 0.6274181027790716\n"
     ]
    }
   ],
   "source": [
    "print(\"Bernoulii digits:\", cross_val_score(BernoulliNB(), X_digits, y_digits).mean())\n",
    "print(\"Bernoulii breast:\", cross_val_score(BernoulliNB(), X_breast, y_breast).mean())"
   ]
  },
  {
   "cell_type": "code",
   "execution_count": 78,
   "metadata": {},
   "outputs": [
    {
     "name": "stdout",
     "output_type": "stream",
     "text": [
      "Multinomial digits: 0.8703497369235531\n",
      "Multinomial breast: 0.8963204471355379\n"
     ]
    }
   ],
   "source": [
    "print(\"Multinomial digits:\", cross_val_score(MultinomialNB(), X_digits, y_digits).mean())\n",
    "print(\"Multinomial breast:\", cross_val_score(MultinomialNB(), X_breast, y_breast).mean())"
   ]
  },
  {
   "cell_type": "code",
   "execution_count": 79,
   "metadata": {},
   "outputs": [
    {
     "name": "stdout",
     "output_type": "stream",
     "text": [
      "Gaussian digits: 0.8069281956050759\n",
      "Gaussian breast: 0.9385188635305075\n"
     ]
    }
   ],
   "source": [
    "print(\"Gaussian digits:\", cross_val_score(GaussianNB(), X_digits, y_digits).mean())\n",
    "print(\"Gaussian breast:\", cross_val_score(GaussianNB(), X_breast, y_breast).mean())"
   ]
  }
 ],
 "metadata": {
  "kernelspec": {
   "display_name": "cs102",
   "language": "python",
   "name": "cs102"
  },
  "language_info": {
   "codemirror_mode": {
    "name": "ipython",
    "version": 3
   },
   "file_extension": ".py",
   "mimetype": "text/x-python",
   "name": "python",
   "nbconvert_exporter": "python",
   "pygments_lexer": "ipython3",
   "version": "3.8.3"
  }
 },
 "nbformat": 4,
 "nbformat_minor": 4
}

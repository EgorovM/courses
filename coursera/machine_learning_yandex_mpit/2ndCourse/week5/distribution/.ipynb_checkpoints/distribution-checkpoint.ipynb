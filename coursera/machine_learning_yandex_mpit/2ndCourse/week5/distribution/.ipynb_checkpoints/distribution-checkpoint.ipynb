{
 "cells": [
  {
   "cell_type": "code",
   "execution_count": 17,
   "metadata": {},
   "outputs": [],
   "source": [
    "from sklearn import datasets"
   ]
  },
  {
   "cell_type": "code",
   "execution_count": 18,
   "metadata": {},
   "outputs": [],
   "source": [
    "from sklearn.naive_bayes import BernoulliNB, MultinomialNB, GaussianNB"
   ]
  },
  {
   "cell_type": "code",
   "execution_count": 19,
   "metadata": {},
   "outputs": [],
   "source": [
    "digits_data = datasets.load_digits()\n",
    "\n",
    "X_digits = digits_data['data']\n",
    "y_digits = digits_data['target']"
   ]
  },
  {
   "cell_type": "code",
   "execution_count": null,
   "metadata": {},
   "outputs": [],
   "source": [
    "import pandas as pd\n",
    "digits_data = "
   ]
  },
  {
   "cell_type": "code",
   "execution_count": 20,
   "metadata": {},
   "outputs": [],
   "source": [
    "breast_data = datasets.load_breast_cancer()\n",
    "\n",
    "X_breast = digits_data['data']\n",
    "y_breast = digits_data['target']"
   ]
  },
  {
   "cell_type": "code",
   "execution_count": 21,
   "metadata": {},
   "outputs": [],
   "source": [
    "from sklearn.model_selection import cross_val_score"
   ]
  },
  {
   "cell_type": "code",
   "execution_count": 22,
   "metadata": {},
   "outputs": [
    {
     "name": "stdout",
     "output_type": "stream",
     "text": [
      "Bernoulii digits: 0.8241736304549674\n",
      "Bernoulii breast: 0.8241736304549674\n"
     ]
    }
   ],
   "source": [
    "print(\"Bernoulii digits:\", cross_val_score(BernoulliNB(), X_digits, y_digits).mean())\n",
    "print(\"Bernoulii breast:\", cross_val_score(BernoulliNB(), X_breast, y_breast).mean())"
   ]
  },
  {
   "cell_type": "code",
   "execution_count": 23,
   "metadata": {},
   "outputs": [
    {
     "name": "stdout",
     "output_type": "stream",
     "text": [
      "Multinomial digits: 0.8703497369235531\n",
      "Multinomial breast: 0.8703497369235531\n"
     ]
    }
   ],
   "source": [
    "print(\"Multinomial digits:\", cross_val_score(MultinomialNB(), X_digits, y_digits).mean())\n",
    "print(\"Multinomial breast:\", cross_val_score(MultinomialNB(), X_breast, y_breast).mean())"
   ]
  },
  {
   "cell_type": "code",
   "execution_count": 24,
   "metadata": {},
   "outputs": [
    {
     "name": "stdout",
     "output_type": "stream",
     "text": [
      "Gaussian digits: 0.8069281956050759\n",
      "Gaussian breast: 0.8069281956050759\n"
     ]
    }
   ],
   "source": [
    "print(\"Gaussian digits:\", cross_val_score(GaussianNB(), X_digits, y_digits).mean())\n",
    "print(\"Gaussian breast:\", cross_val_score(GaussianNB(), X_breast, y_breast).mean())"
   ]
  },
  {
   "cell_type": "code",
   "execution_count": null,
   "metadata": {},
   "outputs": [],
   "source": []
  }
 ],
 "metadata": {
  "kernelspec": {
   "display_name": "cs102",
   "language": "python",
   "name": "cs102"
  },
  "language_info": {
   "codemirror_mode": {
    "name": "ipython",
    "version": 3
   },
   "file_extension": ".py",
   "mimetype": "text/x-python",
   "name": "python",
   "nbconvert_exporter": "python",
   "pygments_lexer": "ipython3",
   "version": "3.8.3"
  }
 },
 "nbformat": 4,
 "nbformat_minor": 4
}

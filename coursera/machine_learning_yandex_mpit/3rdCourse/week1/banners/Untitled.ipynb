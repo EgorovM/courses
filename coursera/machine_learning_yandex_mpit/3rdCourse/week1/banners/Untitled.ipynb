{
 "cells": [
  {
   "cell_type": "code",
   "execution_count": 1,
   "metadata": {},
   "outputs": [],
   "source": [
    "import pandas as pd\n",
    "import numpy as np\n",
    "\n",
    "import sklearn"
   ]
  },
  {
   "cell_type": "code",
   "execution_count": 2,
   "metadata": {},
   "outputs": [],
   "source": [
    "def prepare_csv(data):\n",
    "    data.columns = ['id', 'user_id', 'venue_id', 'latitude', 'longitude', 'created_at']\n",
    "    data[data['latitude'] == '                   '] = np.nan\n",
    "    return data.dropna()"
   ]
  },
  {
   "cell_type": "code",
   "execution_count": 3,
   "metadata": {},
   "outputs": [
    {
     "name": "stderr",
     "output_type": "stream",
     "text": [
      "/Users/michil/.virtualenvs/cs102/lib/python3.8/site-packages/IPython/core/interactiveshell.py:3071: DtypeWarning: Columns (0) have mixed types.Specify dtype option on import or set low_memory=False.\n",
      "  has_raised = await self.run_ast_nodes(code_ast.body, cell_name,\n"
     ]
    }
   ],
   "source": [
    "data = pd.read_csv('checkins.csv')\n",
    "data = prepare_csv(data)"
   ]
  },
  {
   "cell_type": "code",
   "execution_count": 4,
   "metadata": {},
   "outputs": [
    {
     "name": "stdout",
     "output_type": "stream",
     "text": [
      "<class 'pandas.core.frame.DataFrame'>\n",
      "Int64Index: 396634 entries, 1 to 1021964\n",
      "Data columns (total 6 columns):\n",
      " #   Column      Non-Null Count   Dtype  \n",
      "---  ------      --------------   -----  \n",
      " 0   id          396634 non-null  object \n",
      " 1   user_id     396634 non-null  float64\n",
      " 2   venue_id    396634 non-null  float64\n",
      " 3   latitude    396634 non-null  object \n",
      " 4   longitude   396634 non-null  object \n",
      " 5   created_at  396634 non-null  object \n",
      "dtypes: float64(2), object(4)\n",
      "memory usage: 21.2+ MB\n"
     ]
    }
   ],
   "source": [
    "data.info()"
   ]
  },
  {
   "cell_type": "code",
   "execution_count": 5,
   "metadata": {},
   "outputs": [
    {
     "name": "stdout",
     "output_type": "stream",
     "text": [
      "<class 'pandas.core.frame.DataFrame'>\n",
      "Int64Index: 100000 entries, 1 to 233798\n",
      "Data columns (total 6 columns):\n",
      " #   Column      Non-Null Count   Dtype  \n",
      "---  ------      --------------   -----  \n",
      " 0   id          100000 non-null  object \n",
      " 1   user_id     100000 non-null  float64\n",
      " 2   venue_id    100000 non-null  float64\n",
      " 3   latitude    100000 non-null  object \n",
      " 4   longitude   100000 non-null  object \n",
      " 5   created_at  100000 non-null  object \n",
      "dtypes: float64(2), object(4)\n",
      "memory usage: 5.3+ MB\n"
     ]
    }
   ],
   "source": [
    "data = data[:100000]\n",
    "data.info()"
   ]
  },
  {
   "cell_type": "code",
   "execution_count": 6,
   "metadata": {},
   "outputs": [],
   "source": [
    "X = data[['latitude', 'longitude']]"
   ]
  },
  {
   "cell_type": "code",
   "execution_count": 7,
   "metadata": {},
   "outputs": [],
   "source": [
    "from sklearn.cluster import MeanShift"
   ]
  },
  {
   "cell_type": "code",
   "execution_count": 8,
   "metadata": {},
   "outputs": [
    {
     "name": "stdout",
     "output_type": "stream",
     "text": [
      "CPU times: user 2 µs, sys: 1 µs, total: 3 µs\n",
      "Wall time: 4.77 µs\n"
     ]
    },
    {
     "data": {
      "text/plain": [
       "MeanShift(bandwidth=0.1)"
      ]
     },
     "execution_count": 8,
     "metadata": {},
     "output_type": "execute_result"
    }
   ],
   "source": [
    "%time\n",
    "cluster = MeanShift(bandwidth=0.1)\n",
    "cluster.fit(X)"
   ]
  },
  {
   "cell_type": "code",
   "execution_count": 9,
   "metadata": {},
   "outputs": [],
   "source": [
    "labels = cluster.labels_\n",
    "cluster_centers = cluster.cluster_centers_\n",
    "\n",
    "labels_unique = np.unique(labels)\n",
    "n_clusters_ = len(labels_unique)"
   ]
  },
  {
   "cell_type": "code",
   "execution_count": 10,
   "metadata": {},
   "outputs": [],
   "source": [
    "offices = (\n",
    "    (33.751277, -118.188740),\n",
    "\n",
    "    (25.867736, -80.324116),\n",
    "\n",
    "    (51.503016, -0.075479),\n",
    "\n",
    "    (52.378894, 4.885084),\n",
    "\n",
    "    (39.366487, 117.036146),\n",
    "\n",
    "    (-33.868457, 151.205134),\n",
    ")"
   ]
  },
  {
   "cell_type": "code",
   "execution_count": 11,
   "metadata": {},
   "outputs": [],
   "source": [
    "def distance(point1, point2):\n",
    "    return np.sqrt(np.sum((np.array(point1)-np.array(point2))**2))\n",
    "\n",
    "def min_distance(point):\n",
    "    min_dist = 10**21\n",
    "    \n",
    "    for office_point in offices:\n",
    "        min_dist = min(min_dist, distance(point, office_point))\n",
    "        \n",
    "    return min_dist"
   ]
  },
  {
   "cell_type": "code",
   "execution_count": 12,
   "metadata": {},
   "outputs": [],
   "source": [
    "points = [(min_distance(point), point, point_label) for point, point_label in zip(cluster.cluster_centers_, labels)]"
   ]
  },
  {
   "cell_type": "code",
   "execution_count": 13,
   "metadata": {},
   "outputs": [],
   "source": [
    "points.sort()"
   ]
  },
  {
   "cell_type": "code",
   "execution_count": 14,
   "metadata": {},
   "outputs": [
    {
     "name": "stdout",
     "output_type": "stream",
     "text": [
      "-33.86063042857143, 151.20477592857145\n",
      "25.8456722642857, -80.31889059642857\n",
      "51.502991260887086, -0.12553728870967767\n",
      "33.8098779552631, -118.14892380690813\n",
      "25.7858124199675, -80.2179380368254\n",
      "-34.001906149999996, 151.12806905\n",
      "25.705349721052592, -80.28342873815798\n",
      "26.010098249285683, -80.19999058571432\n",
      "-33.9522629, 151.0321372\n",
      "33.8883253427586, -118.04892817172427\n",
      "33.87298601157018, -118.36209114655645\n",
      "33.97257482142858, -118.16837066666663\n",
      "51.426763288888885, -0.3037320666666667\n",
      "52.38850099999999, 4.633765466666666\n",
      "51.5741517, 0.1838708\n",
      "26.138843786842077, -80.33434683684207\n",
      "52.2644, 4.6347\n",
      "51.506478766666675, -0.3651772666666666\n",
      "33.98393587403844, -118.00740497307689\n"
     ]
    }
   ],
   "source": [
    "s = 0\n",
    "\n",
    "for point in points:\n",
    "    if s == 20:\n",
    "        break\n",
    "    label = point[2]\n",
    "    \n",
    "    if np.sum(labels == label) > 15:\n",
    "        print(f\"{point[1][0]}, {point[1][1]}\")\n",
    "        \n",
    "    s += 1"
   ]
  }
 ],
 "metadata": {
  "kernelspec": {
   "display_name": "cs102",
   "language": "python",
   "name": "cs102"
  },
  "language_info": {
   "codemirror_mode": {
    "name": "ipython",
    "version": 3
   },
   "file_extension": ".py",
   "mimetype": "text/x-python",
   "name": "python",
   "nbconvert_exporter": "python",
   "pygments_lexer": "ipython3",
   "version": "3.8.3"
  }
 },
 "nbformat": 4,
 "nbformat_minor": 4
}

{
 "cells": [
  {
   "cell_type": "code",
   "execution_count": 101,
   "metadata": {},
   "outputs": [],
   "source": [
    "import pandas as pd\n",
    "import numpy as np\n",
    "\n",
    "import sklearn"
   ]
  },
  {
   "cell_type": "code",
   "execution_count": 102,
   "metadata": {},
   "outputs": [],
   "source": [
    "def prepare_csv(data):\n",
    "    data.columns = ['id', 'user_id', 'venue_id', 'latitude', 'longitude', 'created_at']\n",
    "    data[data['latitude'] == '                   '] = np.nan\n",
    "    return data.dropna()"
   ]
  },
  {
   "cell_type": "code",
   "execution_count": 103,
   "metadata": {},
   "outputs": [
    {
     "name": "stderr",
     "output_type": "stream",
     "text": [
      "/Users/michil/.virtualenvs/cs102/lib/python3.8/site-packages/IPython/core/interactiveshell.py:3071: DtypeWarning: Columns (0) have mixed types.Specify dtype option on import or set low_memory=False.\n",
      "  has_raised = await self.run_ast_nodes(code_ast.body, cell_name,\n"
     ]
    }
   ],
   "source": [
    "data = pd.read_csv('checkins.csv')\n",
    "data = prepare_csv(data)"
   ]
  },
  {
   "cell_type": "code",
   "execution_count": 104,
   "metadata": {},
   "outputs": [
    {
     "name": "stdout",
     "output_type": "stream",
     "text": [
      "<class 'pandas.core.frame.DataFrame'>\n",
      "Int64Index: 396634 entries, 1 to 1021964\n",
      "Data columns (total 6 columns):\n",
      " #   Column      Non-Null Count   Dtype  \n",
      "---  ------      --------------   -----  \n",
      " 0   id          396634 non-null  object \n",
      " 1   user_id     396634 non-null  float64\n",
      " 2   venue_id    396634 non-null  float64\n",
      " 3   latitude    396634 non-null  object \n",
      " 4   longitude   396634 non-null  object \n",
      " 5   created_at  396634 non-null  object \n",
      "dtypes: float64(2), object(4)\n",
      "memory usage: 21.2+ MB\n"
     ]
    }
   ],
   "source": [
    "data.info()"
   ]
  },
  {
   "cell_type": "code",
   "execution_count": 105,
   "metadata": {},
   "outputs": [
    {
     "name": "stdout",
     "output_type": "stream",
     "text": [
      "<class 'pandas.core.frame.DataFrame'>\n",
      "Int64Index: 100000 entries, 1 to 233798\n",
      "Data columns (total 6 columns):\n",
      " #   Column      Non-Null Count   Dtype  \n",
      "---  ------      --------------   -----  \n",
      " 0   id          100000 non-null  object \n",
      " 1   user_id     100000 non-null  float64\n",
      " 2   venue_id    100000 non-null  float64\n",
      " 3   latitude    100000 non-null  object \n",
      " 4   longitude   100000 non-null  object \n",
      " 5   created_at  100000 non-null  object \n",
      "dtypes: float64(2), object(4)\n",
      "memory usage: 5.3+ MB\n"
     ]
    }
   ],
   "source": [
    "data = data[:100000]\n",
    "data.info()"
   ]
  },
  {
   "cell_type": "code",
   "execution_count": 109,
   "metadata": {},
   "outputs": [],
   "source": [
    "X = data[['latitude', 'longitude']]"
   ]
  },
  {
   "cell_type": "code",
   "execution_count": 110,
   "metadata": {},
   "outputs": [],
   "source": [
    "from sklearn.cluster import MeanShift"
   ]
  },
  {
   "cell_type": "code",
   "execution_count": 113,
   "metadata": {},
   "outputs": [
    {
     "name": "stdout",
     "output_type": "stream",
     "text": [
      "CPU times: user 3 µs, sys: 0 ns, total: 3 µs\n",
      "Wall time: 5.96 µs\n"
     ]
    },
    {
     "data": {
      "text/plain": [
       "MeanShift(bandwidth=0.1)"
      ]
     },
     "execution_count": 113,
     "metadata": {},
     "output_type": "execute_result"
    }
   ],
   "source": [
    "%time\n",
    "cluster = MeanShift(bandwidth=0.1)\n",
    "cluster.fit(X)"
   ]
  },
  {
   "cell_type": "code",
   "execution_count": 114,
   "metadata": {},
   "outputs": [],
   "source": [
    "offices = (\n",
    "    (33.751277, -118.188740),\n",
    "\n",
    "    (25.867736, -80.324116),\n",
    "\n",
    "    (51.503016, -0.075479),\n",
    "\n",
    "    (52.378894, 4.885084),\n",
    "\n",
    "    (39.366487, 117.036146),\n",
    "\n",
    "    (-33.868457, 151.205134),\n",
    ")"
   ]
  },
  {
   "cell_type": "code",
   "execution_count": null,
   "metadata": {},
   "outputs": [],
   "source": [
    "def min_distance(point):\n",
    "    min_dist = 100000\n",
    "    \n",
    "    x, y = point[0], point[1]\n",
    "    \n",
    "    for office_point in offices:\n",
    "        "
   ]
  },
  {
   "cell_type": "code",
   "execution_count": null,
   "metadata": {},
   "outputs": [],
   "source": [
    "rast_id = [(rast(, )]"
   ]
  }
 ],
 "metadata": {
  "kernelspec": {
   "display_name": "cs102",
   "language": "python",
   "name": "cs102"
  },
  "language_info": {
   "codemirror_mode": {
    "name": "ipython",
    "version": 3
   },
   "file_extension": ".py",
   "mimetype": "text/x-python",
   "name": "python",
   "nbconvert_exporter": "python",
   "pygments_lexer": "ipython3",
   "version": "3.8.3"
  }
 },
 "nbformat": 4,
 "nbformat_minor": 4
}

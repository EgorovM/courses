{
 "cells": [
  {
   "cell_type": "code",
   "execution_count": 1,
   "metadata": {},
   "outputs": [],
   "source": [
    "from scipy.spatial import distance\n",
    "import numpy as np\n",
    "import re"
   ]
  },
  {
   "cell_type": "code",
   "execution_count": 24,
   "metadata": {},
   "outputs": [],
   "source": [
    "def prepare_text_by_file(texts_file):\n",
    "    texts = list(map(lambda x: x.lower(), texts_file.readlines()))\n",
    "    texts = list(map(lambda x: re.split('[^a-z]', x), texts))\n",
    "    \n",
    "    return texts"
   ]
  },
  {
   "cell_type": "code",
   "execution_count": 25,
   "metadata": {},
   "outputs": [],
   "source": [
    "def get_dictionary(texts):\n",
    "    dictionary = {}\n",
    "    k = 0\n",
    "    \n",
    "    for text in texts:\n",
    "        for word in text:\n",
    "            if not word in dictionary.values():\n",
    "                dictionary[k] = word\n",
    "                k += 1\n",
    "                \n",
    "    return dictionary"
   ]
  },
  {
   "cell_type": "code",
   "execution_count": 26,
   "metadata": {},
   "outputs": [],
   "source": [
    "def get_corpus(texts, dictionary):\n",
    "    TEXTS_NUM = len(texts)\n",
    "    WORDS_NUM = len(dictionary)\n",
    "    \n",
    "    corpus = np.zeros((TEXTS_NUM, WORDS_NUM))\n",
    "    \n",
    "    for i in range(TEXTS_NUM):\n",
    "        for j in range(WORDS_NUM):\n",
    "            corpus[i, j] = texts[i].count(dictionary[j])\n",
    "            \n",
    "    return corpus"
   ]
  },
  {
   "cell_type": "code",
   "execution_count": 27,
   "metadata": {},
   "outputs": [],
   "source": [
    "def find_distance(a, b):\n",
    "    return distance.cosine(a, b)\n",
    "\n",
    "def find_mins(lst, n):\n",
    "    lst.sort()\n",
    "    \n",
    "    return lst[:n]"
   ]
  },
  {
   "cell_type": "code",
   "execution_count": 28,
   "metadata": {},
   "outputs": [],
   "source": [
    "texts_file = open(\"text.txt\")\n",
    "texts = prepare_text_by_file(texts_file)"
   ]
  },
  {
   "cell_type": "code",
   "execution_count": 8,
   "metadata": {},
   "outputs": [],
   "source": [
    "dictionary = get_dictionary(texts)\n",
    "corpus = get_corpus(texts, dictionary)"
   ]
  },
  {
   "cell_type": "code",
   "execution_count": 9,
   "metadata": {},
   "outputs": [
    {
     "name": "stdout",
     "output_type": "stream",
     "text": [
      "1 - sentence:  0.9527544408738466\n",
      "2 - sentence:  0.8644738145642124\n",
      "3 - sentence:  0.8951715163278082\n",
      "4 - sentence:  0.7770887149698589\n",
      "5 - sentence:  0.9402385695332803\n",
      "6 - sentence:  0.7327387580875756\n",
      "7 - sentence:  0.9258750683338899\n",
      "8 - sentence:  0.8842724875284311\n",
      "9 - sentence:  0.9055088817476932\n",
      "10 - sentence:  0.8328165362273942\n",
      "11 - sentence:  0.8804771390665607\n",
      "12 - sentence:  0.8396432548525454\n",
      "13 - sentence:  0.8703592552895671\n",
      "14 - sentence:  0.8740118423302576\n",
      "15 - sentence:  0.9442721787424647\n",
      "16 - sentence:  0.8406361854220809\n",
      "17 - sentence:  0.956644501523794\n",
      "18 - sentence:  0.9442721787424647\n",
      "19 - sentence:  0.8885443574849294\n",
      "20 - sentence:  0.8427572744917122\n",
      "21 - sentence:  0.8250364469440588\n"
     ]
    }
   ],
   "source": [
    "distances = []\n",
    "for i in range(1, len(corpus)):\n",
    "    dist = find_distance(corpus[0], corpus[i])\n",
    "    print(f\"{i} - sentence: \", dist)\n",
    "    \n",
    "    distances.append((dist, i))"
   ]
  },
  {
   "cell_type": "code",
   "execution_count": 10,
   "metadata": {},
   "outputs": [
    {
     "data": {
      "text/plain": [
       "[(0.7327387580875756, 6), (0.7770887149698589, 4)]"
      ]
     },
     "execution_count": 10,
     "metadata": {},
     "output_type": "execute_result"
    }
   ],
   "source": [
    "find_mins(distances, 2)"
   ]
  }
 ],
 "metadata": {
  "kernelspec": {
   "display_name": "cs102",
   "language": "python",
   "name": "cs102"
  },
  "language_info": {
   "codemirror_mode": {
    "name": "ipython",
    "version": 3
   },
   "file_extension": ".py",
   "mimetype": "text/x-python",
   "name": "python",
   "nbconvert_exporter": "python",
   "pygments_lexer": "ipython3",
   "version": "3.8.3"
  }
 },
 "nbformat": 4,
 "nbformat_minor": 4
}
